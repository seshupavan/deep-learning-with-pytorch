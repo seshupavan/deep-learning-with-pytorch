{
 "cells": [
  {
   "cell_type": "markdown",
   "id": "8d142582",
   "metadata": {},
   "source": [
    "# Tensors \n",
    "\n",
    "Most modern deep learning tasks involve working with multi-dimensional arrays of numbers, known as tensors. A Tensor is a number , vector, matrix or n-dimensional array that is used to store and manipulate data."
   ]
  },
  {
   "cell_type": "code",
   "execution_count": 1,
   "id": "3b91f934",
   "metadata": {},
   "outputs": [],
   "source": [
    "import torch\n",
    "import numpy as np"
   ]
  },
  {
   "cell_type": "code",
   "execution_count": 2,
   "id": "27149588",
   "metadata": {},
   "outputs": [],
   "source": [
    "def tensor_info(tensor):\n",
    "    'This function takes a tensor and prints the data-type and shape of a tensor'\n",
    "    return f\"The shape of the tensor is {tensor.shape} and data-type is {tensor.dtype}\""
   ]
  },
  {
   "cell_type": "code",
   "execution_count": 3,
   "id": "ee7a34bf",
   "metadata": {},
   "outputs": [
    {
     "data": {
      "text/plain": [
       "'The shape of the tensor is torch.Size([4]) and data-type is torch.float32'"
      ]
     },
     "execution_count": 3,
     "metadata": {},
     "output_type": "execute_result"
    }
   ],
   "source": [
    "t2 = torch.tensor([1,2,3,4.])\n",
    "tensor_info(t2)"
   ]
  },
  {
   "cell_type": "markdown",
   "id": "e2df70b2",
   "metadata": {},
   "source": [
    "The `torch.tensor` is used to create Tensors and for `t2` when we are not explicitly specifying the data-type pytorch will choose the best fit internally since we have 3 integers and one floating point number it sets the dtype to `torch.float32`"
   ]
  },
  {
   "cell_type": "code",
   "execution_count": 4,
   "id": "f488e7c4",
   "metadata": {},
   "outputs": [
    {
     "data": {
      "text/plain": [
       "'The shape of the tensor is torch.Size([4, 3]) and data-type is torch.int16'"
      ]
     },
     "execution_count": 4,
     "metadata": {},
     "output_type": "execute_result"
    }
   ],
   "source": [
    "t3 = torch.tensor([[2,4,4],\n",
    "                  [7,4,6],\n",
    "                  [9,3,0],\n",
    "                  [7,2,7]], dtype = torch.int16)\n",
    "tensor_info(t3)"
   ]
  },
  {
   "cell_type": "markdown",
   "id": "9e70ee27",
   "metadata": {},
   "source": [
    "For `t3`, we explicitly set the dtype to `torch.int16`"
   ]
  },
  {
   "cell_type": "code",
   "execution_count": 5,
   "id": "51b1e967",
   "metadata": {},
   "outputs": [
    {
     "data": {
      "text/plain": [
       "tensor([[2, 4, 4, 7, 4, 6],\n",
       "        [9, 3, 0, 7, 2, 7]], dtype=torch.int16)"
      ]
     },
     "execution_count": 5,
     "metadata": {},
     "output_type": "execute_result"
    }
   ],
   "source": [
    "t3.view(2,6)"
   ]
  },
  {
   "cell_type": "markdown",
   "id": "de97aea5",
   "metadata": {},
   "source": [
    "When training neural networks you will spend a lot of time manipulating tensors to certain shapes to perform calculations and view is widely for this purpose. `torch.Tensor.view` helps in manipulating shapes as long as both of the shapes multiply to the same "
   ]
  },
  {
   "cell_type": "code",
   "execution_count": 6,
   "id": "07c94340",
   "metadata": {},
   "outputs": [
    {
     "data": {
      "text/plain": [
       "(tensor([[2, 4],\n",
       "         [4, 7],\n",
       "         [4, 6],\n",
       "         [9, 3],\n",
       "         [0, 7],\n",
       "         [2, 7]], dtype=torch.int16),\n",
       " tensor([[2, 4, 4, 7],\n",
       "         [4, 6, 9, 3],\n",
       "         [0, 7, 2, 7]], dtype=torch.int16))"
      ]
     },
     "execution_count": 6,
     "metadata": {},
     "output_type": "execute_result"
    }
   ],
   "source": [
    "t3.view(6,-1), t3.view(-1,4)"
   ]
  },
  {
   "cell_type": "markdown",
   "id": "6be6afb8",
   "metadata": {},
   "source": [
    "When we give one of the dimension and specify other as `-1` then pytorch will automatically calculates and set the other dimension"
   ]
  },
  {
   "cell_type": "code",
   "execution_count": 7,
   "id": "7e38b928",
   "metadata": {},
   "outputs": [
    {
     "data": {
      "text/plain": [
       "tensor([[[0.4079, 0.4342, 0.3647, 0.5249],\n",
       "         [0.2942, 0.4109, 0.2930, 0.3044],\n",
       "         [0.9253, 0.5588, 0.3376, 0.3189]],\n",
       "\n",
       "        [[0.3207, 0.2630, 0.2699, 0.4508],\n",
       "         [0.3536, 0.7747, 0.6288, 0.2800],\n",
       "         [0.2869, 1.0981, 0.4720, 0.3385]]], grad_fn=<AddBackward0>)"
      ]
     },
     "execution_count": 7,
     "metadata": {},
     "output_type": "execute_result"
    }
   ],
   "source": [
    "x = torch.rand(2,3,4, requires_grad=True)\n",
    "w = torch.rand(2,3,4, requires_grad=True)\n",
    "b = torch.rand(1,1,1, requires_grad=True)\n",
    "\n",
    "y = w * x + b\n",
    "y"
   ]
  },
  {
   "cell_type": "markdown",
   "id": "2de5503a",
   "metadata": {},
   "source": [
    "we set `requires_grad=True` to compute gradients during back-propagation when training a neural network"
   ]
  },
  {
   "cell_type": "code",
   "execution_count": 9,
   "id": "b9d76456",
   "metadata": {},
   "outputs": [
    {
     "data": {
      "text/plain": [
       "tensor(10.7120, grad_fn=<SumBackward0>)"
      ]
     },
     "execution_count": 9,
     "metadata": {},
     "output_type": "execute_result"
    }
   ],
   "source": [
    "y_sum = y.sum()\n",
    "y_sum"
   ]
  },
  {
   "cell_type": "code",
   "execution_count": 11,
   "id": "22b73abb",
   "metadata": {},
   "outputs": [],
   "source": [
    "y_sum.backward()"
   ]
  },
  {
   "cell_type": "code",
   "execution_count": 12,
   "id": "8a897d43",
   "metadata": {},
   "outputs": [
    {
     "name": "stdout",
     "output_type": "stream",
     "text": [
      "Gradients of x: tensor([[[0.9353, 0.1815, 0.6642, 0.3850],\n",
      "         [0.2306, 0.6491, 0.1492, 0.0644],\n",
      "         [0.8541, 0.9033, 0.5557, 0.2417]],\n",
      "\n",
      "        [[0.9412, 0.9460, 0.0585, 0.2253],\n",
      "         [0.3330, 0.9276, 0.5008, 0.0526],\n",
      "         [0.0780, 0.9148, 0.2306, 0.4297]]])\n",
      "Gradients of w: tensor([[[0.1651, 0.9954, 0.1674, 0.7047],\n",
      "         [0.1762, 0.2424, 0.2642, 0.7897],\n",
      "         [0.7865, 0.3379, 0.1513, 0.2705]],\n",
      "\n",
      "        [[0.0714, 0.0100, 0.2796, 0.8752],\n",
      "         [0.3004, 0.5619, 0.7493, 0.5016],\n",
      "         [0.4283, 0.9232, 0.9472, 0.1977]]])\n",
      "Gradients of b: tensor([[[24.]]])\n"
     ]
    }
   ],
   "source": [
    "# Print the gradients\n",
    "print(\"Gradients of x:\", x.grad)\n",
    "print(\"Gradients of w:\", w.grad)\n",
    "print(\"Gradients of b:\", b.grad)"
   ]
  }
 ],
 "metadata": {
  "kernelspec": {
   "display_name": "Python 3 (ipykernel)",
   "language": "python",
   "name": "python3"
  },
  "language_info": {
   "codemirror_mode": {
    "name": "ipython",
    "version": 3
   },
   "file_extension": ".py",
   "mimetype": "text/x-python",
   "name": "python",
   "nbconvert_exporter": "python",
   "pygments_lexer": "ipython3",
   "version": "3.10.9"
  }
 },
 "nbformat": 4,
 "nbformat_minor": 5
}
